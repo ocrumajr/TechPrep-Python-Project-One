{
 "cells": [
  {
   "cell_type": "code",
   "execution_count": null,
   "id": "dbe57991",
   "metadata": {},
   "outputs": [],
   "source": [
    "\"\"\"\n",
    "Magic 8 Ball\n",
    "\"\"\"\n",
    "\n",
    "# Imports\n",
    "import random"
   ]
  },
  {
   "cell_type": "code",
   "execution_count": null,
   "id": "1368dd87",
   "metadata": {},
   "outputs": [],
   "source": [
    "# Variables\n",
    "seeds = (1,2,3)\n",
    "response_affirmative = [\"It is certain\", \"it is decidely so\", \"Without a doubt\",\"Yes defenitely\", \"You may rely on it\",\n",
    "                        \"As I see it, Yes\", \"Most Likely\", \"Outlook Good\", \"Yes\", \"Signs point to yes\"]\n",
    "response_noncommittal = [\"Reply hazy, try again\", \"Ask again later\", \"Better not tell you now\",\n",
    "                          \"Cannot predict now\", \"Concentrate and ask again\"]\n",
    "response_negative = [\"Don't count on it\", \"My reply is no\", \"My sources say no\", \"Outlook not so good\", \"Very doubtful\"]"
   ]
  },
  {
   "cell_type": "code",
   "execution_count": null,
   "id": "fa5d3a7a",
   "metadata": {},
   "outputs": [],
   "source": [
    "# User asks question\n",
    "user_input = input(\"Ask your question: \")"
   ]
  },
  {
   "cell_type": "code",
   "execution_count": null,
   "id": "d403b9df",
   "metadata": {},
   "outputs": [
    {
     "name": "stdout",
     "output_type": "stream",
     "text": [
      "asdfasdf \n",
      "Signs point to yes\n"
     ]
    }
   ],
   "source": [
    "# Magic 8 ball respons\n",
    "\n",
    "if (user_input is not None) and (user_input.strip() != \"\"): #checks if users input is NONE or just spaces\n",
    "    seed = random.choice(seeds)\n",
    "    if seed == 1:\n",
    "        answer = random.choice(response_affirmative)\n",
    "    elif seed == 2:\n",
    "        answer = random.choice(response_noncommittal)\n",
    "    else:\n",
    "        answer = random.choice(response_negative)\n",
    "\n",
    "    print(f\"{user_input} \\n{answer}\")\n",
    "else:\n",
    "    print(\"You did not ask a question, try again...\")\n",
    "\n"
   ]
  }
 ],
 "metadata": {
  "kernelspec": {
   "display_name": "Python 3",
   "language": "python",
   "name": "python3"
  },
  "language_info": {
   "codemirror_mode": {
    "name": "ipython",
    "version": 3
   },
   "file_extension": ".py",
   "mimetype": "text/x-python",
   "name": "python",
   "nbconvert_exporter": "python",
   "pygments_lexer": "ipython3",
   "version": "3.12.10"
  }
 },
 "nbformat": 4,
 "nbformat_minor": 5
}
