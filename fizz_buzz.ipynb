{
 "cells": [
  {
   "cell_type": "code",
   "execution_count": null,
   "id": "e44ce6d4",
   "metadata": {},
   "outputs": [],
   "source": [
    "\"\"\"\n",
    "Fizz buzz\n",
    "This program check if the number is divisible by 3 or/and 5\n",
    "If it is divisible by 3 it prints the word \"Fizz\"\n",
    "If it is divisible by 5 it prints the word \"Buzz\"\n",
    "If divisible by both ir prints \"Fizz Buzz\"\n",
    "Used the modulo operator, this operator check if the remainder is 0\n",
    "\"\"\"\n",
    "for num in range(1, 101, 1):                    # generate a numbers that starts from 1 to 100, with incremetns of 1\n",
    "    if (num % 3 == 0) and (num % 5 == 0):       # If divisible by both 3 and 5 ir prints \"Fizz Buzz\" beside the number\n",
    "        print(f\"{num}: fizz buzz\")\n",
    "    elif (num % 3 == 0) and (num % 5 != 0):     # If it is divisible by 3 it prints the word \"Fizz\" beside the number\n",
    "        print(f\"{num}: fizz\")\n",
    "    elif (num % 3 != 0) and (num % 5 == 0):     # If it is divisible by 3 it prints the word \"Buzz\" beside the number\n",
    "        print(f\"{num}: buzz\")\n",
    "    else:                                       # condition for numbers that are not divisible by 3 or 5, it just print out the number\n",
    "        print(f\"{num}\")"
   ]
  }
 ],
 "metadata": {
  "kernelspec": {
   "display_name": "Python 3",
   "language": "python",
   "name": "python3"
  },
  "language_info": {
   "codemirror_mode": {
    "name": "ipython",
    "version": 3
   },
   "file_extension": ".py",
   "mimetype": "text/x-python",
   "name": "python",
   "nbconvert_exporter": "python",
   "pygments_lexer": "ipython3",
   "version": "3.12.10"
  }
 },
 "nbformat": 4,
 "nbformat_minor": 5
}
